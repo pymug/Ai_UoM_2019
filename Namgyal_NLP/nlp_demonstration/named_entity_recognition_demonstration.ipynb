{
  "nbformat": 4,
  "nbformat_minor": 0,
  "metadata": {
    "colab": {
      "name": "named_entity_recognition_demonstration",
      "provenance": [],
      "collapsed_sections": [],
      "include_colab_link": true
    },
    "kernelspec": {
      "name": "python3",
      "display_name": "Python 3"
    }
  },
  "cells": [
    {
      "cell_type": "markdown",
      "metadata": {
        "id": "view-in-github",
        "colab_type": "text"
      },
      "source": [
        "<a href=\"https://colab.research.google.com/github/nam4dev/nlp_demonstration/blob/master/named_entity_recognition_demonstration.ipynb\" target=\"_parent\"><img src=\"https://colab.research.google.com/assets/colab-badge.svg\" alt=\"Open In Colab\"/></a>"
      ]
    },
    {
      "cell_type": "code",
      "metadata": {
        "id": "uUStWYI8RCY7",
        "colab_type": "code",
        "colab": {}
      },
      "source": [
        "import spacy\n",
        "\n",
        "nlp = spacy.load('en_core_web_sm')"
      ],
      "execution_count": 0,
      "outputs": []
    },
    {
      "cell_type": "code",
      "metadata": {
        "id": "DHftfqTNRc-h",
        "colab_type": "code",
        "colab": {}
      },
      "source": [
        "# Create a Doc instance \n",
        "text = 'Steve Job was the CEO of Apple. Apple is in USA.'\n",
        "doc = nlp(text)\n",
        "\n",
        "# Print all named entities and their labels\n",
        "for ent in doc.ents:\n",
        "    print(ent.text, ent.label_)"
      ],
      "execution_count": 0,
      "outputs": []
    },
    {
      "cell_type": "markdown",
      "metadata": {
        "id": "anm9i4QCSDF5",
        "colab_type": "text"
      },
      "source": [
        "Find Persons in text"
      ]
    },
    {
      "cell_type": "code",
      "metadata": {
        "id": "HCRuTknpSFj1",
        "colab_type": "code",
        "colab": {}
      },
      "source": [
        "persons_text = (\n",
        "    'Most of people who have changed the world did not complete school! '\n",
        "    'Such as Bill Gates, Nikola Tesla, Albert Einstein, Larry Page and Sergey Brin'\n",
        ")\n",
        "\n",
        "def find_persons(text):\n",
        "  # Create Doc object\n",
        "  doc = nlp(text)\n",
        "  \n",
        "  # Identify the persons\n",
        "  persons = [ent.text for ent in doc.ents if ent.label_ == 'PERSON']\n",
        "  \n",
        "  # Return persons\n",
        "  return persons\n",
        "\n",
        "print(find_persons(persons_text))"
      ],
      "execution_count": 0,
      "outputs": []
    },
    {
      "cell_type": "code",
      "metadata": {
        "id": "_8PgCA9-UzoY",
        "colab_type": "code",
        "colab": {}
      },
      "source": [
        "# Nikola Tesla is missing which demonstrates that it is not an exact science!!\n",
        "\n",
        "doc = nlp(persons_text)\n",
        "print([(ent.text, ent.label_) for ent in doc.ents])"
      ],
      "execution_count": 0,
      "outputs": []
    }
  ]
}
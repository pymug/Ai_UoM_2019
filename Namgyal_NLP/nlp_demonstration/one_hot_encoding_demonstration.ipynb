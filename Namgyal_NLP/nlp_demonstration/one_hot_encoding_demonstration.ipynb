{
  "nbformat": 4,
  "nbformat_minor": 0,
  "metadata": {
    "colab": {
      "name": "one_hot_encoding_demonstration",
      "provenance": [],
      "collapsed_sections": [],
      "include_colab_link": true
    },
    "kernelspec": {
      "name": "python3",
      "display_name": "Python 3"
    }
  },
  "cells": [
    {
      "cell_type": "markdown",
      "metadata": {
        "id": "view-in-github",
        "colab_type": "text"
      },
      "source": [
        "<a href=\"https://colab.research.google.com/github/nam4dev/nlp_demonstration/blob/master/one_hot_encoding_demonstration.ipynb\" target=\"_parent\"><img src=\"https://colab.research.google.com/assets/colab-badge.svg\" alt=\"Open In Colab\"/></a>"
      ]
    },
    {
      "cell_type": "markdown",
      "metadata": {
        "id": "wFSV7pQSlJSC",
        "colab_type": "text"
      },
      "source": [
        "One-Hot Encoding Demonstration"
      ]
    },
    {
      "cell_type": "code",
      "metadata": {
        "id": "Rnn9KRKWkyo1",
        "colab_type": "code",
        "colab": {}
      },
      "source": [
        "# Import data manipulation library: pandas\n",
        "import pandas as pd"
      ],
      "execution_count": 0,
      "outputs": []
    },
    {
      "cell_type": "markdown",
      "metadata": {
        "id": "IjWy_C02lZ0-",
        "colab_type": "text"
      },
      "source": [
        "Create a dataframe with pandas to demonstrate One-Hot encoding concept"
      ]
    },
    {
      "cell_type": "code",
      "metadata": {
        "id": "BvgDqI6o8_-I",
        "colab_type": "code",
        "colab": {}
      },
      "source": [
        "import json\n",
        "import random"
      ],
      "execution_count": 0,
      "outputs": []
    },
    {
      "cell_type": "code",
      "metadata": {
        "id": "hlNWx79Ull6Y",
        "colab_type": "code",
        "colab": {}
      },
      "source": [
        "data = {\n",
        "    'gender': [['male', 'female'][random.randint(0, 1)] \n",
        "    for _ in range(25)]\n",
        "}\n",
        "\n",
        "print('Generated data', json.dumps(data, indent=4))"
      ],
      "execution_count": 0,
      "outputs": []
    },
    {
      "cell_type": "code",
      "metadata": {
        "id": "KacV_Z4BICnK",
        "colab_type": "code",
        "colab": {}
      },
      "source": [
        "dataframe = pd.DataFrame(data=data)\n",
        "\n",
        "# Print first five rows of dataframe\n",
        "print(dataframe.head())\n",
        "print()\n",
        "\n",
        "# Print the features of dataframe\n",
        "print(dataframe.columns)\n"
      ],
      "execution_count": 0,
      "outputs": []
    },
    {
      "cell_type": "code",
      "metadata": {
        "id": "r46AyKNWIJUT",
        "colab_type": "code",
        "colab": {}
      },
      "source": [
        "# Perform one-hot encoding\n",
        "oh_dataframe = pd.get_dummies(dataframe, columns=['gender'])\n",
        "\n",
        "# Print the new features of dataframe\n",
        "print(oh_dataframe.columns)\n",
        "print()\n",
        "\n",
        "# Print first five rows of dataframe\n",
        "print(oh_dataframe.head())"
      ],
      "execution_count": 0,
      "outputs": []
    }
  ]
}
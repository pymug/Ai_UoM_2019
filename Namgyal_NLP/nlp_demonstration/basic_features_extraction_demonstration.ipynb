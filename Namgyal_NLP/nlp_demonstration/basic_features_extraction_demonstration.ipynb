{
  "nbformat": 4,
  "nbformat_minor": 0,
  "metadata": {
    "colab": {
      "name": "basic_features_extraction_demonstration",
      "provenance": [],
      "collapsed_sections": [],
      "include_colab_link": true
    },
    "kernelspec": {
      "name": "python3",
      "display_name": "Python 3"
    }
  },
  "cells": [
    {
      "cell_type": "markdown",
      "metadata": {
        "id": "view-in-github",
        "colab_type": "text"
      },
      "source": [
        "<a href=\"https://colab.research.google.com/github/nam4dev/nlp_demonstration/blob/master/basic_features_extraction_demonstration.ipynb\" target=\"_parent\"><img src=\"https://colab.research.google.com/assets/colab-badge.svg\" alt=\"Open In Colab\"/></a>"
      ]
    },
    {
      "cell_type": "markdown",
      "metadata": {
        "id": "jApMWv3y-zS0",
        "colab_type": "text"
      },
      "source": [
        "Basic Features Extraction Demonstration"
      ]
    },
    {
      "cell_type": "code",
      "metadata": {
        "id": "qCGTzwV0-ssW",
        "colab_type": "code",
        "colab": {}
      },
      "source": [
        "# Import data manipulation library: pandas\n",
        "import pandas as pd"
      ],
      "execution_count": 0,
      "outputs": []
    },
    {
      "cell_type": "code",
      "metadata": {
        "id": "DZ1KxHMPB6pt",
        "colab_type": "code",
        "colab": {}
      },
      "source": [
        "import bs4\n",
        "import json\n",
        "import requests"
      ],
      "execution_count": 0,
      "outputs": []
    },
    {
      "cell_type": "markdown",
      "metadata": {
        "id": "HZZx59KQBxyg",
        "colab_type": "text"
      },
      "source": [
        "Gathering Tweeter public data to build our data frame"
      ]
    },
    {
      "cell_type": "code",
      "metadata": {
        "id": "9BibTXznB9zC",
        "colab_type": "code",
        "colab": {}
      },
      "source": [
        "response = requests.get('https://twitter.com/tweeter?lang=fr')\n",
        "html_doc = response.text\n",
        "soup = bs4.BeautifulSoup(html_doc, 'html.parser')\n",
        "\n",
        "lines = []\n",
        "for tweet in soup.find_all('p', class_='tweet-text'):\n",
        "  for line in tweet.text.split('\\n'):\n",
        "    stripped = line.strip()\n",
        "    if stripped:\n",
        "      lines.append(stripped)\n",
        "\n",
        "print('Fetched lines', json.dumps(lines, indent=4))\n",
        "print()"
      ],
      "execution_count": 0,
      "outputs": []
    },
    {
      "cell_type": "markdown",
      "metadata": {
        "id": "__NGe-wi-7b6",
        "colab_type": "text"
      },
      "source": [
        "Create a dataframe with pandas to demonstrate Basic Features Extraction concept"
      ]
    },
    {
      "cell_type": "code",
      "metadata": {
        "id": "cYuQkbB9_Bmy",
        "colab_type": "code",
        "colab": {}
      },
      "source": [
        "df = pd.DataFrame(data={\"tweets\": lines})\n",
        "\n",
        "print(df.head())\n",
        "print()\n",
        "\n",
        "print(df.info())"
      ],
      "execution_count": 0,
      "outputs": []
    },
    {
      "cell_type": "markdown",
      "metadata": {
        "id": "TmFjcHfEICvi",
        "colab_type": "text"
      },
      "source": [
        "Creating a column for characters count & Prints characters count average"
      ]
    },
    {
      "cell_type": "code",
      "metadata": {
        "id": "S5ecGImxIHNC",
        "colab_type": "code",
        "colab": {}
      },
      "source": [
        "# Create a feature char_count\n",
        "df['char_count'] = df['tweets'].apply(len)\n",
        "\n",
        "# Print the data frame with added column\n",
        "print(df.head())\n",
        "print()\n",
        "\n",
        "# Print the average character count\n",
        "print('Character count average', df['char_count'].mean())"
      ],
      "execution_count": 0,
      "outputs": []
    },
    {
      "cell_type": "markdown",
      "metadata": {
        "id": "ICJGG16KKMJU",
        "colab_type": "text"
      },
      "source": [
        "Create a hashtag_count feature in the data frame"
      ]
    },
    {
      "cell_type": "code",
      "metadata": {
        "id": "nESRZ1LUKSKL",
        "colab_type": "code",
        "colab": {}
      },
      "source": [
        "# Create the hashtag_count function to be applied\n",
        "def hashtag_count(line):\n",
        "  words = line.split()\n",
        "  return len([word for word in words if word.startswith('#')])\n",
        "\n",
        "# Create a feature hashtag_count\n",
        "df['hashtag_count'] = df['tweets'].apply(hashtag_count)\n",
        "\n",
        "max_colwidth_ref = pd.get_option('display.max_colwidth')\n",
        "\n",
        "# Allow to display full column length\n",
        "pd.set_option('display.max_colwidth', -1)\n",
        "print(df.head(n=10))\n",
        "print()\n",
        "\n",
        "# Setting default value back to normal\n",
        "pd.set_option('display.max_colwidth', max_colwidth_ref)\n",
        "\n",
        "# Print the average character count\n",
        "print('Hash tag average', df['hashtag_count'].mean())"
      ],
      "execution_count": 0,
      "outputs": []
    },
    {
      "cell_type": "markdown",
      "metadata": {
        "id": "kcsDULSVTHtR",
        "colab_type": "text"
      },
      "source": [
        "Readability Tests Demonstration"
      ]
    },
    {
      "cell_type": "code",
      "metadata": {
        "id": "pcSAmw_iTMTU",
        "colab_type": "code",
        "colab": {}
      },
      "source": [
        "!pip install textatistic\n",
        "# Import Textatistic library\n",
        "from textatistic import Textatistic"
      ],
      "execution_count": 0,
      "outputs": []
    },
    {
      "cell_type": "markdown",
      "metadata": {
        "id": "f0CQUTmuP4Fa",
        "colab_type": "text"
      },
      "source": [
        "Flesch Readability Test Demonstration"
      ]
    },
    {
      "cell_type": "code",
      "metadata": {
        "id": "9EiLSuAOQDBT",
        "colab_type": "code",
        "colab": {}
      },
      "source": [
        "readability_scores = Textatistic('\\n'.join(lines)).scores\n",
        "\n",
        "print('[Readability Scores] Flesch', readability_scores['flesch_score'])"
      ],
      "execution_count": 0,
      "outputs": []
    },
    {
      "cell_type": "markdown",
      "metadata": {
        "id": "oN11JMHqQDxo",
        "colab_type": "text"
      },
      "source": [
        "Gunning Fog Index Demonstration"
      ]
    },
    {
      "cell_type": "code",
      "metadata": {
        "id": "Y6PO9PdjQMji",
        "colab_type": "code",
        "colab": {}
      },
      "source": [
        "print('[Readability Scores] Gunning Fog', readability_scores['gunningfog_score'])"
      ],
      "execution_count": 0,
      "outputs": []
    }
  ]
}
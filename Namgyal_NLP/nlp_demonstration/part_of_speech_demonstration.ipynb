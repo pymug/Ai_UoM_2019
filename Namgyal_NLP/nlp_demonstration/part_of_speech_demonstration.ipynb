{
  "nbformat": 4,
  "nbformat_minor": 0,
  "metadata": {
    "colab": {
      "name": "part_of_speech_demonstration",
      "provenance": [],
      "collapsed_sections": [],
      "include_colab_link": true
    },
    "kernelspec": {
      "name": "python3",
      "display_name": "Python 3"
    }
  },
  "cells": [
    {
      "cell_type": "markdown",
      "metadata": {
        "id": "view-in-github",
        "colab_type": "text"
      },
      "source": [
        "<a href=\"https://colab.research.google.com/github/nam4dev/nlp_demonstration/blob/master/part_of_speech_demonstration.ipynb\" target=\"_parent\"><img src=\"https://colab.research.google.com/assets/colab-badge.svg\" alt=\"Open In Colab\"/></a>"
      ]
    },
    {
      "cell_type": "code",
      "metadata": {
        "id": "Vpk-t1wpEx3S",
        "colab_type": "code",
        "colab": {}
      },
      "source": [
        "import json\n",
        "import spacy\n",
        "\n",
        "nlp = spacy.load('en_core_web_sm')"
      ],
      "execution_count": 0,
      "outputs": []
    },
    {
      "cell_type": "code",
      "metadata": {
        "id": "VbsHzzN3HaHS",
        "colab_type": "code",
        "colab": {}
      },
      "source": [
        "test_string = \"I'm very committed to NLP, more generally every A.I engineering fields!\"\n",
        "\n",
        "doc = nlp(test_string)"
      ],
      "execution_count": 0,
      "outputs": []
    },
    {
      "cell_type": "code",
      "metadata": {
        "id": "ClE88xuVH3lf",
        "colab_type": "code",
        "colab": {}
      },
      "source": [
        "pos = [(token.text, token.pos_) for token in doc]\n",
        "\n",
        "print('POS', json.dumps(pos, indent=4))"
      ],
      "execution_count": 0,
      "outputs": []
    },
    {
      "cell_type": "code",
      "metadata": {
        "id": "IUoU_70dKB93",
        "colab_type": "code",
        "colab": {}
      },
      "source": [
        "sample_string = \"John, Kevin and Namgyal went to the market to buy apples.\""
      ],
      "execution_count": 0,
      "outputs": []
    },
    {
      "cell_type": "code",
      "metadata": {
        "id": "me7u2QehJZLl",
        "colab_type": "code",
        "colab": {}
      },
      "source": [
        "# Returns number of proper nouns\n",
        "def proper_nouns(text, model=nlp):\n",
        "  \t# Create doc object\n",
        "    doc = model(text)\n",
        "    # Generate list of POS tags\n",
        "    pos = [token.pos_ for token in doc]\n",
        "    \n",
        "    # Return number of proper nouns\n",
        "    return pos.count('PROPN')\n",
        "\n",
        "print('test_string', proper_nouns(test_string, nlp))\n",
        "print('sample_string', proper_nouns(sample_string, nlp))"
      ],
      "execution_count": 0,
      "outputs": []
    },
    {
      "cell_type": "code",
      "metadata": {
        "id": "VOhhd3hUJlza",
        "colab_type": "code",
        "colab": {}
      },
      "source": [
        "# Returns number of other nouns\n",
        "def nouns(text, model=nlp):\n",
        "  \t# Create doc object\n",
        "    doc = model(text)\n",
        "    # Generate list of POS tags\n",
        "    pos = [token.pos_ for token in doc]\n",
        "    \n",
        "    # Return number of other nouns\n",
        "    return pos.count('NOUN')\n",
        "\n",
        "print('test_string', nouns(test_string, nlp))\n",
        "print('sample_string', nouns(sample_string, nlp))"
      ],
      "execution_count": 0,
      "outputs": []
    }
  ]
}
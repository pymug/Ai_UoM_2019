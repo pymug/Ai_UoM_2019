{
  "nbformat": 4,
  "nbformat_minor": 0,
  "metadata": {
    "colab": {
      "name": "bag_of_words_demonstration.ipynb",
      "provenance": [],
      "collapsed_sections": [],
      "include_colab_link": true
    },
    "kernelspec": {
      "name": "python3",
      "display_name": "Python 3"
    }
  },
  "cells": [
    {
      "cell_type": "markdown",
      "metadata": {
        "id": "view-in-github",
        "colab_type": "text"
      },
      "source": [
        "<a href=\"https://colab.research.google.com/github/nam4dev/nlp_demonstration/blob/master/bag_of_words_demonstration.ipynb\" target=\"_parent\"><img src=\"https://colab.research.google.com/assets/colab-badge.svg\" alt=\"Open In Colab\"/></a>"
      ]
    },
    {
      "cell_type": "markdown",
      "metadata": {
        "id": "pTYc_xATtaht",
        "colab_type": "text"
      },
      "source": [
        "Sentiment Classifier using Bag of Words (BoW) techniques"
      ]
    },
    {
      "cell_type": "code",
      "metadata": {
        "id": "Fyhmfm0zfr9-",
        "colab_type": "code",
        "colab": {}
      },
      "source": [
        "import json\n",
        "# Import pandas\n",
        "import pandas as pd\n",
        "# Import CountVectorizer from scikit learn\n",
        "from sklearn.feature_extraction.text import CountVectorizer"
      ],
      "execution_count": 0,
      "outputs": []
    },
    {
      "cell_type": "code",
      "metadata": {
        "id": "hMEZwSzPfv4g",
        "colab_type": "code",
        "colab": {}
      },
      "source": [
        "COLUMNS = ['reviews', 'sentiment']\n",
        "\n",
        "test_df = pd.read_json('movie_reviews_test.json')\n",
        "test_df.columns = COLUMNS\n",
        "\n",
        "train_df = pd.read_json('movie_reviews_train.json')\n",
        "train_df.columns = COLUMNS"
      ],
      "execution_count": 0,
      "outputs": []
    },
    {
      "cell_type": "code",
      "metadata": {
        "id": "s0m5P0rR4TaJ",
        "colab_type": "code",
        "colab": {}
      },
      "source": [
        "max_colwidth_ref = pd.get_option('display.max_colwidth')\n",
        "\n",
        "# Allow to display full column length\n",
        "pd.set_option('display.max_colwidth', -1)"
      ],
      "execution_count": 0,
      "outputs": []
    },
    {
      "cell_type": "code",
      "metadata": {
        "id": "Urg4wBXa3Ekz",
        "colab_type": "code",
        "colab": {}
      },
      "source": [
        "# Print data frames before cleaning\n",
        "print('Training materials')\n",
        "print(train_df['reviews'].shape)\n",
        "print(train_df['reviews'].head(10))\n",
        "\n",
        "print('Testing materials')\n",
        "print(test_df['reviews'].shape)\n",
        "print(test_df['reviews'].head(25))"
      ],
      "execution_count": 0,
      "outputs": []
    },
    {
      "cell_type": "code",
      "metadata": {
        "id": "lz9oPCTw0J4q",
        "colab_type": "code",
        "colab": {}
      },
      "source": [
        "# Cleaning function (removes some html tags)\n",
        "def clean_br(review):\n",
        "  for html_tag in ('<br>', '<br/>', '<br >', '<br />'):\n",
        "    review = review.replace(html_tag, '')\n",
        "  return review"
      ],
      "execution_count": 0,
      "outputs": []
    },
    {
      "cell_type": "code",
      "metadata": {
        "id": "3PxiA19Q0QKw",
        "colab_type": "code",
        "colab": {}
      },
      "source": [
        "%time X_test = test_df['reviews'].apply(clean_br)\n",
        "%time X_train = train_df['reviews'].apply(clean_br)"
      ],
      "execution_count": 0,
      "outputs": []
    },
    {
      "cell_type": "code",
      "metadata": {
        "id": "62UtxpaTs63Z",
        "colab_type": "code",
        "colab": {}
      },
      "source": [
        "print('Training materials')\n",
        "print(X_train.shape)\n",
        "print(X_train.head(10))"
      ],
      "execution_count": 0,
      "outputs": []
    },
    {
      "cell_type": "code",
      "metadata": {
        "id": "F2YXGg77tCjD",
        "colab_type": "code",
        "colab": {}
      },
      "source": [
        "print('Testing materials')\n",
        "print(X_test.shape)\n",
        "print(X_test.head(10))"
      ],
      "execution_count": 0,
      "outputs": []
    },
    {
      "cell_type": "code",
      "metadata": {
        "id": "Vhc_P52e4Ylq",
        "colab_type": "code",
        "colab": {}
      },
      "source": [
        "# Setting default value back to normal\n",
        "pd.set_option('display.max_colwidth', max_colwidth_ref)"
      ],
      "execution_count": 0,
      "outputs": []
    },
    {
      "cell_type": "code",
      "metadata": {
        "id": "Bq5751PBfxla",
        "colab_type": "code",
        "colab": {}
      },
      "source": [
        "# Create a CountVectorizer instance\n",
        "vectorizer = CountVectorizer(stop_words='english')\n",
        "# N-grams\n",
        "# vectorizer = CountVectorizer(stop_words='english', ngram_range=(1, 1))\n",
        "# vectorizer = CountVectorizer(stop_words='english', ngram_range=(1, 2))\n",
        "# vectorizer = CountVectorizer(stop_words='english', ngram_range=(1, 3))\n",
        "\n",
        "# Fit and transform training materials\n",
        "X_train_bow = vectorizer.fit_transform(X_train)\n",
        "\n",
        "# Transform testing materials\n",
        "X_test_bow = vectorizer.transform(X_test)"
      ],
      "execution_count": 0,
      "outputs": []
    },
    {
      "cell_type": "code",
      "metadata": {
        "id": "Qd1CvI61rLqc",
        "colab_type": "code",
        "colab": {}
      },
      "source": [
        "print('test', X_test_bow.shape)\n",
        "print('train', X_train_bow.shape)"
      ],
      "execution_count": 0,
      "outputs": []
    },
    {
      "cell_type": "code",
      "metadata": {
        "id": "t-Ky3PAekBhA",
        "colab_type": "code",
        "colab": {}
      },
      "source": [
        "from sklearn.naive_bayes import MultinomialNB"
      ],
      "execution_count": 0,
      "outputs": []
    },
    {
      "cell_type": "code",
      "metadata": {
        "id": "0zdVh3LvlCmz",
        "colab_type": "code",
        "colab": {}
      },
      "source": [
        "y_test = test_df['sentiment']\n",
        "y_train = train_df['sentiment']"
      ],
      "execution_count": 0,
      "outputs": []
    },
    {
      "cell_type": "code",
      "metadata": {
        "id": "KAZNoBOA2iRB",
        "colab_type": "code",
        "colab": {}
      },
      "source": [
        "# Sentiment map\n",
        "SENTIMENTS = {\n",
        "    0: 'Negative',\n",
        "    1: 'Positive'\n",
        "}"
      ],
      "execution_count": 0,
      "outputs": []
    },
    {
      "cell_type": "code",
      "metadata": {
        "id": "O1vNbkhUkN4z",
        "colab_type": "code",
        "colab": {}
      },
      "source": [
        "# Create a MultinomialNB instance\n",
        "clf = MultinomialNB()\n",
        "\n",
        "# Fit the classifier\n",
        "clf.fit(X_train_bow, y_train)\n",
        "\n",
        "# Measure accuracy of the trained model\n",
        "accuracy = clf.score(X_test_bow, y_test)\n",
        "print(\"The classifier accuracy on the test set is {0:.2f}%\".format(accuracy * 100))"
      ],
      "execution_count": 0,
      "outputs": []
    },
    {
      "cell_type": "code",
      "metadata": {
        "id": "wiFJsX-OrXib",
        "colab_type": "code",
        "colab": {}
      },
      "source": [
        "# Predict the sentiment of some reviews\n",
        "for (review, expected) in (\n",
        "    (\"The movie was awful. The music was hard to ear and the acting bad.\", 0),\n",
        "    (\"The movie was great! The music was overwhelming. Really nice!\", 1),\n",
        "    (\"The movie was not so good, even pretty bad :( Actors were not brillant.\", 0),\n",
        "):\n",
        "  prediction = clf.predict(vectorizer.transform([review]))[0]\n",
        "  print(\n",
        "      \"The sentiment predicted by the classifier is {} (expected {})\"\n",
        "      .format(SENTIMENTS[prediction], SENTIMENTS[expected])\n",
        "  )"
      ],
      "execution_count": 0,
      "outputs": []
    }
  ]
}